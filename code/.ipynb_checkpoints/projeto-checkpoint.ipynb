{
 "cells": [
  {
   "cell_type": "code",
   "execution_count": 2,
   "outputs": [],
   "source": [
    "url = \"https://www.kaggle.com/c/kobe-bryant-shot-selection/data\"\n",
    "\n",
    "#resp = requests.get(url)\n",
    "comandos_terminal = {\n",
    "    'ls': 'Lista os arquivos e diretórios no diretório atual.',\n",
    "    'pwd': 'Mostra o diretório atual (present working directory).',\n",
    "    'mkdir': 'Cria um novo diretório.',\n",
    "    'touch': 'Cria um novo arquivo vazio ou atualiza a data de modificação de um arquivo existente.',\n",
    "    'rm': 'Remove arquivos ou diretórios. Cuidado ao usar este comando, pois os arquivos removidos não vão para a lixeira.',\n",
    "    'cp': 'Copia arquivos ou diretórios de um local para outro.',\n",
    "    'mv': 'Move (ou renomeia) arquivos ou diretórios.',\n",
    "    'cat': 'Exibe o conteúdo de um arquivo.',\n",
    "    'grep': 'Pesquisa por padrões em arquivos.',\n",
    "    'echo': 'Exibe uma linha de texto ou variáveis.',\n",
    "    'man': 'Exibe o manual de um comando específico.',\n",
    "    'chmod': 'Altera as permissões de acesso de arquivos e diretórios.',\n",
    "    'chown': 'Altera o proprietário de arquivos e diretórios.',\n",
    "    'ssh': 'Conecta-se a um servidor remoto usando o protocolo SSH (Secure Shell).',\n",
    "    'wget': 'Baixa arquivos da internet.'\n",
    "}\n"
   ],
   "metadata": {
    "collapsed": false,
    "ExecuteTime": {
     "end_time": "2024-04-01T20:39:41.344259300Z",
     "start_time": "2024-04-01T20:39:40.465204700Z"
    }
   },
   "id": "75516559b8b65810"
  },
  {
   "cell_type": "code",
   "execution_count": null,
   "outputs": [],
   "source": [
    "# Detalhes do projeto\n",
    "'''\n",
    "1. fazer um preditor em regressão e classificação\n",
    "2. Colocar o diagrama desenhado no slide 6\n",
    "3. descrever os plots e metricas no slide 8 \n",
    "4. Fazer uma analise das exploratoria das colunas no slide 11 (falar da correlação e etc)\n",
    "'''"
   ],
   "metadata": {
    "collapsed": false
   },
   "id": "943cb4b6e45ccf5c"
  },
  {
   "cell_type": "code",
   "execution_count": null,
   "outputs": [],
   "source": [
    "# CMD\n",
    "'''\n",
    "git clone https://github.com/vinniciuscardoso/kobe_predict.git\n",
    "cd Aulas\\Pós INFNET\\2_Engenharia_Machine_Learning\\projeto\\kobe_predict\\\n",
    "mkdir code\n",
    "mkdir docs\n",
    "mkdir data\n",
    "cd data\n",
    "mkdir raw\n",
    "cd raw\n",
    "cp ..\\..\\..\\..\\Repositorios\\eng_ml-main\\eng_ml-main\\data\\dataset_kobe_dev.parquet ..\\..\\..\\..\\projeto\\kobe_predict\\data\\raw\n",
    "cp ..\\..\\..\\..\\Repositorios\\eng_ml-main\\eng_ml-main\\data\\dataset_kobe_prod.parquet ..\\..\\..\\..\\projeto\\kobe_predict\\data\\raw\n",
    "cd ..\n",
    "mkdir processed\n",
    "\n",
    " cd '.\\Aulas\\Pós INFNET\\2_Engenharia_Machine_Learning\\projeto\\kobe_predict\\code\\'\n",
    "mlflow ui --backend-store-uri sqlite:///mlruns.db -p 5002\n",
    "'''"
   ],
   "metadata": {
    "collapsed": false
   },
   "id": "f5dc05d4b416f4a3"
  },
  {
   "cell_type": "code",
   "execution_count": null,
   "outputs": [],
   "source": [
    "!kedro now\n",
    "!kobe_predict\n",
    "! 4,5 e 7 #Exemplo do que vaiser usado na pasta\n",
    "    "
   ],
   "metadata": {
    "collapsed": false
   },
   "id": "b50af9be31d0bf61"
  },
  {
   "cell_type": "code",
   "execution_count": 1,
   "outputs": [
    {
     "ename": "RuntimeError",
     "evalue": "('Pycaret only supports python 3.9, 3.10, 3.11. Your actual Python version: ', sys.version_info(major=3, minor=12, micro=7, releaselevel='final', serial=0), 'Please DOWNGRADE your Python version.')",
     "output_type": "error",
     "traceback": [
      "\u001B[1;31m---------------------------------------------------------------------------\u001B[0m",
      "\u001B[1;31mRuntimeError\u001B[0m                              Traceback (most recent call last)",
      "Cell \u001B[1;32mIn[1], line 7\u001B[0m\n\u001B[0;32m      4\u001B[0m \u001B[38;5;28;01mfrom\u001B[39;00m \u001B[38;5;21;01msklearn\u001B[39;00m\u001B[38;5;21;01m.\u001B[39;00m\u001B[38;5;21;01mmodel_selection\u001B[39;00m \u001B[38;5;28;01mimport\u001B[39;00m train_test_split, validation_curve\n\u001B[0;32m      5\u001B[0m \u001B[38;5;28;01mfrom\u001B[39;00m \u001B[38;5;21;01msklearn\u001B[39;00m\u001B[38;5;21;01m.\u001B[39;00m\u001B[38;5;21;01mmetrics\u001B[39;00m \u001B[38;5;28;01mimport\u001B[39;00m log_loss, f1_score    \n\u001B[1;32m----> 7\u001B[0m \u001B[38;5;28;01mimport\u001B[39;00m \u001B[38;5;21;01mpycaret\u001B[39;00m\u001B[38;5;21;01m.\u001B[39;00m\u001B[38;5;21;01mclassification\u001B[39;00m \u001B[38;5;28;01mas\u001B[39;00m \u001B[38;5;21;01mpc\u001B[39;00m\n\u001B[0;32m      8\u001B[0m \u001B[38;5;28;01mimport\u001B[39;00m \u001B[38;5;21;01mpycaret\u001B[39;00m\u001B[38;5;21;01m.\u001B[39;00m\u001B[38;5;21;01mregression\u001B[39;00m \u001B[38;5;28;01mas\u001B[39;00m \u001B[38;5;21;01mpr\u001B[39;00m\n\u001B[0;32m     10\u001B[0m \u001B[38;5;28;01mimport\u001B[39;00m \u001B[38;5;21;01mmlflow\u001B[39;00m\n",
      "File \u001B[1;32m~\\anaconda3\\Lib\\site-packages\\pycaret\\__init__.py:22\u001B[0m\n\u001B[0;32m     16\u001B[0m     \u001B[38;5;28;01mraise\u001B[39;00m \u001B[38;5;167;01mRuntimeError\u001B[39;00m(\n\u001B[0;32m     17\u001B[0m         \u001B[38;5;124m\"\u001B[39m\u001B[38;5;124mPycaret only supports python 3.9, 3.10, 3.11. Your actual Python version: \u001B[39m\u001B[38;5;124m\"\u001B[39m,\n\u001B[0;32m     18\u001B[0m         sys\u001B[38;5;241m.\u001B[39mversion_info,\n\u001B[0;32m     19\u001B[0m         \u001B[38;5;124m\"\u001B[39m\u001B[38;5;124mPlease UPGRADE your Python version.\u001B[39m\u001B[38;5;124m\"\u001B[39m,\n\u001B[0;32m     20\u001B[0m     )\n\u001B[0;32m     21\u001B[0m \u001B[38;5;28;01melif\u001B[39;00m sys\u001B[38;5;241m.\u001B[39mversion_info \u001B[38;5;241m>\u001B[39m\u001B[38;5;241m=\u001B[39m (\u001B[38;5;241m3\u001B[39m, \u001B[38;5;241m12\u001B[39m):\n\u001B[1;32m---> 22\u001B[0m     \u001B[38;5;28;01mraise\u001B[39;00m \u001B[38;5;167;01mRuntimeError\u001B[39;00m(\n\u001B[0;32m     23\u001B[0m         \u001B[38;5;124m\"\u001B[39m\u001B[38;5;124mPycaret only supports python 3.9, 3.10, 3.11. Your actual Python version: \u001B[39m\u001B[38;5;124m\"\u001B[39m,\n\u001B[0;32m     24\u001B[0m         sys\u001B[38;5;241m.\u001B[39mversion_info,\n\u001B[0;32m     25\u001B[0m         \u001B[38;5;124m\"\u001B[39m\u001B[38;5;124mPlease DOWNGRADE your Python version.\u001B[39m\u001B[38;5;124m\"\u001B[39m,\n\u001B[0;32m     26\u001B[0m     )\n",
      "\u001B[1;31mRuntimeError\u001B[0m: ('Pycaret only supports python 3.9, 3.10, 3.11. Your actual Python version: ', sys.version_info(major=3, minor=12, micro=7, releaselevel='final', serial=0), 'Please DOWNGRADE your Python version.')"
     ]
    }
   ],
   "source": [
    "import requests\n",
    "import pandas as pd\n",
    "import numpy as np\n",
    "from sklearn.model_selection import train_test_split, validation_curve\n",
    "from sklearn.metrics import log_loss, f1_score    \n",
    "\n",
    "import pycaret.classification as pc\n",
    "import pycaret.regression as pr\n",
    "\n",
    "import mlflow\n",
    "\n",
    "import matplotlib.pyplot as plt\n",
    "\n",
    "\n",
    "import streamlit\n",
    "import os\n"
   ],
   "metadata": {
    "collapsed": false,
    "ExecuteTime": {
     "end_time": "2025-04-13T21:41:26.852635800Z",
     "start_time": "2025-04-13T21:41:23.509973300Z"
    }
   },
   "id": "initial_id"
  },
  {
   "cell_type": "code",
   "execution_count": 4,
   "outputs": [
    {
     "name": "stdout",
     "output_type": "stream",
     "text": [
      "C:\\Users\\vinni\\anaconda3\\python.exe\n",
      "3.12.7 | packaged by Anaconda, Inc. | (main, Oct  4 2024, 13:17:27) [MSC v.1929 64 bit (AMD64)]\n"
     ]
    }
   ],
   "source": [
    "import sys\n",
    "print(sys.executable) \n",
    "print(sys.version)\n"
   ],
   "metadata": {
    "collapsed": false,
    "ExecuteTime": {
     "end_time": "2025-04-13T21:50:01.306001300Z",
     "start_time": "2025-04-13T21:50:01.293581100Z"
    }
   },
   "id": "917b335de804dd16"
  },
  {
   "cell_type": "markdown",
   "source": [
    "## Leitura de dados"
   ],
   "metadata": {
    "collapsed": false
   },
   "id": "21b905810d078e9f"
  },
  {
   "cell_type": "code",
   "execution_count": 5,
   "outputs": [],
   "source": [
    "\n",
    "df_prod = pd.read_parquet('../data/raw/dataset_kobe_prod.parquet')"
   ],
   "metadata": {
    "collapsed": false,
    "ExecuteTime": {
     "start_time": "2024-04-15T19:35:06.245629600Z"
    }
   },
   "id": "89dca6829d44119b"
  },
  {
   "cell_type": "code",
   "execution_count": 7,
   "outputs": [
    {
     "name": "stdout",
     "output_type": "stream",
     "text": [
      "<class 'pandas.core.frame.DataFrame'>\n",
      "Int64Index: 24271 entries, 0 to 30696\n",
      "Data columns (total 25 columns):\n",
      " #   Column              Non-Null Count  Dtype  \n",
      "---  ------              --------------  -----  \n",
      " 0   action_type         24271 non-null  object \n",
      " 1   combined_shot_type  24271 non-null  object \n",
      " 2   game_event_id       24271 non-null  int64  \n",
      " 3   game_id             24271 non-null  int64  \n",
      " 4   lat                 24271 non-null  float64\n",
      " 5   loc_x               24271 non-null  int64  \n",
      " 6   loc_y               24271 non-null  int64  \n",
      " 7   lon                 24271 non-null  float64\n",
      " 8   minutes_remaining   24271 non-null  int64  \n",
      " 9   period              24271 non-null  int64  \n",
      " 10  playoffs            24271 non-null  int64  \n",
      " 11  season              24271 non-null  object \n",
      " 12  seconds_remaining   24271 non-null  int64  \n",
      " 13  shot_distance       24271 non-null  int64  \n",
      " 14  shot_made_flag      20285 non-null  float64\n",
      " 15  shot_type           24271 non-null  object \n",
      " 16  shot_zone_area      24271 non-null  object \n",
      " 17  shot_zone_basic     24271 non-null  object \n",
      " 18  shot_zone_range     24271 non-null  object \n",
      " 19  team_id             24271 non-null  int64  \n",
      " 20  team_name           24271 non-null  object \n",
      " 21  game_date           24271 non-null  object \n",
      " 22  matchup             24271 non-null  object \n",
      " 23  opponent            24271 non-null  object \n",
      " 24  shot_id             24271 non-null  int64  \n",
      "dtypes: float64(3), int64(11), object(11)\n",
      "memory usage: 4.8+ MB\n"
     ]
    }
   ],
   "source": [
    "df_dev.info() #24271"
   ],
   "metadata": {
    "collapsed": false,
    "ExecuteTime": {
     "end_time": "2024-04-15T19:37:24.020328300Z",
     "start_time": "2024-04-15T19:37:23.926144400Z"
    }
   },
   "id": "6960809f30b5caa8"
  },
  {
   "cell_type": "code",
   "execution_count": 15,
   "outputs": [],
   "source": [],
   "metadata": {
    "collapsed": false,
    "ExecuteTime": {
     "end_time": "2024-04-15T19:42:20.457279600Z",
     "start_time": "2024-04-15T19:42:20.441651800Z"
    }
   },
   "id": "6523f5590a5da5f2"
  },
  {
   "cell_type": "markdown",
   "source": [
    "### Configuração MLFlow"
   ],
   "metadata": {
    "collapsed": false
   },
   "id": "716df8fe1fd75f60"
  },
  {
   "cell_type": "code",
   "execution_count": 2,
   "outputs": [
    {
     "name": "stderr",
     "output_type": "stream",
     "text": [
      "2024/04/15 16:48:23 INFO mlflow.store.db.utils: Creating initial MLflow database tables...\n",
      "2024/04/15 16:48:23 INFO mlflow.store.db.utils: Updating database tables\n",
      "INFO  [alembic.runtime.migration] Context impl SQLiteImpl.\n",
      "INFO  [alembic.runtime.migration] Will assume non-transactional DDL.\n",
      "INFO  [alembic.runtime.migration] Running upgrade  -> 451aebb31d03, add metric step\n",
      "INFO  [alembic.runtime.migration] Running upgrade 451aebb31d03 -> 90e64c465722, migrate user column to tags\n",
      "INFO  [alembic.runtime.migration] Running upgrade 90e64c465722 -> 181f10493468, allow nulls for metric values\n",
      "INFO  [alembic.runtime.migration] Running upgrade 181f10493468 -> df50e92ffc5e, Add Experiment Tags Table\n",
      "INFO  [alembic.runtime.migration] Running upgrade df50e92ffc5e -> 7ac759974ad8, Update run tags with larger limit\n",
      "INFO  [alembic.runtime.migration] Running upgrade 7ac759974ad8 -> 89d4b8295536, create latest metrics table\n",
      "INFO  [89d4b8295536_create_latest_metrics_table_py] Migration complete!\n",
      "INFO  [alembic.runtime.migration] Running upgrade 89d4b8295536 -> 2b4d017a5e9b, add model registry tables to db\n",
      "INFO  [2b4d017a5e9b_add_model_registry_tables_to_db_py] Adding registered_models and model_versions tables to database.\n",
      "INFO  [2b4d017a5e9b_add_model_registry_tables_to_db_py] Migration complete!\n",
      "INFO  [alembic.runtime.migration] Running upgrade 2b4d017a5e9b -> cfd24bdc0731, Update run status constraint with killed\n",
      "INFO  [alembic.runtime.migration] Running upgrade cfd24bdc0731 -> 0a8213491aaa, drop_duplicate_killed_constraint\n",
      "INFO  [alembic.runtime.migration] Running upgrade 0a8213491aaa -> 728d730b5ebd, add registered model tags table\n",
      "INFO  [alembic.runtime.migration] Running upgrade 728d730b5ebd -> 27a6a02d2cf1, add model version tags table\n",
      "INFO  [alembic.runtime.migration] Running upgrade 27a6a02d2cf1 -> 84291f40a231, add run_link to model_version\n",
      "INFO  [alembic.runtime.migration] Running upgrade 84291f40a231 -> a8c4a736bde6, allow nulls for run_id\n",
      "INFO  [alembic.runtime.migration] Running upgrade a8c4a736bde6 -> 39d1c3be5f05, add_is_nan_constraint_for_metrics_tables_if_necessary\n",
      "INFO  [alembic.runtime.migration] Running upgrade 39d1c3be5f05 -> c48cb773bb87, reset_default_value_for_is_nan_in_metrics_table_for_mysql\n",
      "INFO  [alembic.runtime.migration] Running upgrade c48cb773bb87 -> bd07f7e963c5, create index on run_uuid\n",
      "INFO  [alembic.runtime.migration] Running upgrade bd07f7e963c5 -> 0c779009ac13, add deleted_time field to runs table\n",
      "INFO  [alembic.runtime.migration] Running upgrade 0c779009ac13 -> cc1f77228345, change param value length to 500\n",
      "INFO  [alembic.runtime.migration] Running upgrade cc1f77228345 -> 97727af70f4d, Add creation_time and last_update_time to experiments table\n",
      "INFO  [alembic.runtime.migration] Running upgrade 97727af70f4d -> 3500859a5d39, Add Model Aliases table\n",
      "INFO  [alembic.runtime.migration] Running upgrade 3500859a5d39 -> 7f2a7d5fae7d, add datasets inputs input_tags tables\n",
      "INFO  [alembic.runtime.migration] Running upgrade 7f2a7d5fae7d -> 2d6e25af4d3e, increase max param val length from 500 to 8000\n",
      "INFO  [alembic.runtime.migration] Running upgrade 2d6e25af4d3e -> acf3f17fdcc7, add storage location field to model versions\n",
      "INFO  [alembic.runtime.migration] Context impl SQLiteImpl.\n",
      "INFO  [alembic.runtime.migration] Will assume non-transactional DDL.\n"
     ]
    }
   ],
   "source": [
    "# Para usar o sqlite como repositorio\n",
    "mlflow.set_tracking_uri('sqlite:///mlruns.db')\n",
    "\n",
    "experiment_name = 'Projeto Kobe'\n",
    "experiment = mlflow.get_experiment_by_name(experiment_name)\n",
    "if experiment is None:\n",
    "    experiment_id = mlflow.create_experiment(experiment_name)\n",
    "    experiment = mlflow.get_experiment(experiment_id)\n",
    "experiment_id  = experiment.experiment_id"
   ],
   "metadata": {
    "collapsed": false,
    "ExecuteTime": {
     "end_time": "2024-04-15T20:48:23.946629600Z",
     "start_time": "2024-04-15T20:48:22.331775200Z"
    }
   },
   "id": "f7666c87d7c1aa0c"
  },
  {
   "cell_type": "code",
   "execution_count": 1,
   "outputs": [
    {
     "ename": "NameError",
     "evalue": "name 'raw_data' is not defined",
     "output_type": "error",
     "traceback": [
      "\u001B[1;31m---------------------------------------------------------------------------\u001B[0m",
      "\u001B[1;31mNameError\u001B[0m                                 Traceback (most recent call last)",
      "Cell \u001B[1;32mIn[1], line 4\u001B[0m\n\u001B[0;32m      1\u001B[0m columns \u001B[38;5;241m=\u001B[39m [\u001B[38;5;124m'\u001B[39m\u001B[38;5;124mlat\u001B[39m\u001B[38;5;124m'\u001B[39m, \u001B[38;5;124m'\u001B[39m\u001B[38;5;124mlon\u001B[39m\u001B[38;5;124m'\u001B[39m , \u001B[38;5;124m'\u001B[39m\u001B[38;5;124mminutes_remaining\u001B[39m\u001B[38;5;124m'\u001B[39m, \u001B[38;5;124m'\u001B[39m\u001B[38;5;124mperiod\u001B[39m\u001B[38;5;124m'\u001B[39m, \u001B[38;5;124m'\u001B[39m\u001B[38;5;124mplayoffs\u001B[39m\u001B[38;5;124m'\u001B[39m, \u001B[38;5;124m'\u001B[39m\u001B[38;5;124mshot_distance\u001B[39m\u001B[38;5;124m'\u001B[39m, \u001B[38;5;124m'\u001B[39m\u001B[38;5;124mshot_made_flag\u001B[39m\u001B[38;5;124m'\u001B[39m] \u001B[38;5;66;03m# Não foi encontrado a coluna \"lng\". Substituido pela coluna \"lon\"\u001B[39;00m\n\u001B[0;32m      3\u001B[0m \u001B[38;5;66;03m# TODO: Verificar se não tem variavel categorica, se tiver, colocar o get_dummies() para categorizar.\u001B[39;00m\n\u001B[1;32m----> 4\u001B[0m (raw_data[[\u001B[38;5;124m'\u001B[39m\u001B[38;5;124mSurvived\u001B[39m\u001B[38;5;124m'\u001B[39m, \u001B[38;5;124m'\u001B[39m\u001B[38;5;124mpclass\u001B[39m\u001B[38;5;124m'\u001B[39m, \u001B[38;5;124m'\u001B[39m\u001B[38;5;124mAge\u001B[39m\u001B[38;5;124m'\u001B[39m, \u001B[38;5;124m'\u001B[39m\u001B[38;5;124mSibSp\u001B[39m\u001B[38;5;124m'\u001B[39m]\n\u001B[0;32m      5\u001B[0m ]\u001B[38;5;241m.\u001B[39mjoin(pd\u001B[38;5;241m.\u001B[39mget_dummies(raw_data[\u001B[38;5;124m'\u001B[39m\u001B[38;5;124mEmbarked\u001B[39m\u001B[38;5;124m'\u001B[39m], prefix\u001B[38;5;241m=\u001B[39m\u001B[38;5;124m'\u001B[39m\u001B[38;5;124mEmbarked\u001B[39m\u001B[38;5;124m'\u001B[39m))\u001B[38;5;241m.\u001B[39m\n\u001B[0;32m      6\u001B[0m  join(pd\u001B[38;5;241m.\u001B[39mget_dummies(raw_data[\u001B[38;5;124m'\u001B[39m\u001B[38;5;124mSex\u001B[39m\u001B[38;5;124m'\u001B[39m], prefix\u001B[38;5;241m=\u001B[39m\u001B[38;5;124m'\u001B[39m\u001B[38;5;124msex\u001B[39m\u001B[38;5;124m'\u001B[39m)))\n\u001B[0;32m      8\u001B[0m \u001B[38;5;66;03m# pipeline run 'PreparacaoDados\"\u001B[39;00m\n\u001B[0;32m      9\u001B[0m \u001B[38;5;28;01mwith\u001B[39;00m mlflow\u001B[38;5;241m.\u001B[39mstart_run(experiment_id\u001B[38;5;241m=\u001B[39mexperiment_id, run_name\u001B[38;5;241m=\u001B[39m\u001B[38;5;124m'\u001B[39m\u001B[38;5;124mPreparacaoDados\u001B[39m\u001B[38;5;124m'\u001B[39m):\n",
      "\u001B[1;31mNameError\u001B[0m: name 'raw_data' is not defined"
     ]
    }
   ],
   "source": [
    "columns = ['lat', 'lon' , 'minutes_remaining', 'period', 'playoffs', 'shot_distance', 'shot_made_flag'] # Não foi encontrado a coluna \"lng\". Substituido pela coluna \"lon\"\n",
    "\n",
    "# TODO: Verificar se não tem variavel categorica, se tiver, colocar o get_dummies() para categorizar. Ex: raw_data[['Survived', 'pclass', 'Age', 'SibSp']].join(pd.get_dummies(raw_data['Embarked'], prefix='Embarked')).join(pd.get_dummies(raw_data['Sex'], prefix='sex'))\n",
    "\n",
    "# TODO: 2.2 Colocar o pdf do diagrama.png dentro do /docs # opcional Colocar no README\n",
    "# TODO: 3 Colocar a resposta no README.md\n",
    "\n",
    "# TODO: 5.6 separação em treino  e teste estratificado função sklearn\n",
    "\n",
    "#TODO: Colocar todo o codigo do notebook em funções no arquivo .py\n",
    "\n",
    "# pipeline run 'PreparacaoDados\"\n",
    "with mlflow.start_run(experiment_id=experiment_id, run_name='PreparacaoDados'):\n",
    "    \n",
    "    df_dev = pd.read_parquet('../data/raw/dataset_kobe_dev.parquet')\n",
    "    \n",
    "    df_dev.dropna(subset=['shot_made_flag'], inplace=True) # Somente a coluna \"shot_made_flag\" tinha dados faltantes\n",
    "    df_dev = df_dev[columns] # shape 20285, 5\n",
    "    df_dev.to_parquet('../data/processed/data_filtered.parquet')\n",
    "    \n",
    "    df_dev_columns = df_dev[['lat', 'lon' , 'minutes_remaining', 'period', 'playoffs', 'shot_distance']]\n",
    "    df_dev_target = df_dev['shot_made_flag']\n",
    "    train_perc = 0.8\n",
    "    \n",
    "    xtrain, xtest, ytrain, ytest = train_test_split(df_dev_columns,\n",
    "                                                    df_dev_target,\n",
    "                                                    train_size=train_perc, \n",
    "                                                    stratify=df_dev_target)\n",
    "    \n",
    "    xtrain['shot_made_flag'] = ytrain\n",
    "    xtest['shot_made_flag'] = ytest\n",
    "    \n",
    "    xtrain.to_parquet('../data/processed/base_train.parquet')\n",
    "    xtest.to_parquet('../data/processed/base_test.parquet')\n",
    "    \n",
    "    mlflow.log_params({'perc_test':1 - train_perc, 'select_columns': columns})\n",
    "    mlflow.log_metrics({'qtde_linhas_train': xtrain.shape[0], 'qtde_linhas_test': xtest.shape[0]})"
   ],
   "metadata": {
    "collapsed": false,
    "ExecuteTime": {
     "end_time": "2025-04-12T12:45:58.335510900Z",
     "start_time": "2025-04-12T12:45:57.775510700Z"
    }
   },
   "id": "8c3aded7285cde96"
  },
  {
   "cell_type": "markdown",
   "source": [
    "## Treinamento do Modelo"
   ],
   "metadata": {
    "collapsed": false
   },
   "id": "f3600c679edb4e9"
  },
  {
   "cell_type": "code",
   "execution_count": 18,
   "outputs": [],
   "source": [
    "def plot_parameter_validation_curve(x, y, param_name, grid_search,\n",
    "                                    model, model_name, scoring,\n",
    "                                    logx):\n",
    "    print('Parameter:', param_name)\n",
    "    print('GridSearch:', grid_search[param_name])\n",
    "    print('Scoring:', scoring)\n",
    "    plt.figure(figsize=(6,4))\n",
    "    train_scores, test_scores = validation_curve(model,\n",
    "                                                 X = x,\n",
    "                                                 y = y,\n",
    "                                                 param_name=param_name,\n",
    "                                                 param_range= grid_search[param_name],\n",
    "                                                 scoring=scoring,\n",
    "                                                 cv=10,\n",
    "                                                 n_jobs=-1)\n",
    "    train_scores_mean = np.mean(train_scores, axis=1)\n",
    "    train_scores_std = np.std(train_scores, axis=1)\n",
    "    test_scores_mean = np.mean(test_scores, axis=1)\n",
    "    test_scores_std = np.std(test_scores, axis=1)\n",
    "    plt.title(\"Curva Validação Modelo \" + model_name)\n",
    "    plt.xlabel(param_name)\n",
    "    plt.ylabel(\"Score (\"+scoring+\")\")\n",
    "    if logx:\n",
    "        plt.semilogx(grid_search[param_name], train_scores_mean,'-o', label=\"Treino\",\n",
    "                     color=\"darkorange\", lw=2)\n",
    "        plt.semilogx(grid_search[param_name], test_scores_mean,'-o', label=\"Validação-Cruzada\",\n",
    "                     color=\"navy\", lw=2)\n",
    "    else:\n",
    "        plt.plot(grid_search[param_name], train_scores_mean,'-o', label=\"Treino\",\n",
    "                 color=\"darkorange\", lw=2)\n",
    "        plt.plot(grid_search[param_name], test_scores_mean,'-o', label=\"Validação-Cruzada\",\n",
    "                 color=\"navy\", lw=2)\n",
    "    plt.fill_between(grid_search[param_name], train_scores_mean - train_scores_std,\n",
    "                     train_scores_mean + train_scores_std, alpha=0.2,\n",
    "                     color=\"darkorange\", lw=2)\n",
    "    plt.fill_between(grid_search[param_name], test_scores_mean - test_scores_std,\n",
    "                     test_scores_mean + test_scores_std, alpha=0.2,\n",
    "                     color=\"navy\", lw=2)\n",
    "    plt.legend(loc='best')\n",
    "    plt.grid(True)\n",
    "    plt.show()"
   ],
   "metadata": {
    "collapsed": false,
    "ExecuteTime": {
     "end_time": "2024-04-16T00:32:41.778843800Z",
     "start_time": "2024-04-16T00:32:41.747564200Z"
    }
   },
   "id": "5da1274e6539d52f"
  },
  {
   "cell_type": "code",
   "execution_count": 11,
   "outputs": [
    {
     "data": {
      "text/plain": "<IPython.core.display.HTML object>",
      "text/html": ""
     },
     "metadata": {},
     "output_type": "display_data"
    },
    {
     "data": {
      "text/plain": "                                                                    \n                                                                    \nInitiated  . . . . . . . . . . . . . . . . . .              19:01:13\nStatus     . . . . . . . . . . . . . . . . . .  Loading Dependencies\nEstimator  . . . . . . . . . . . . . . . . . .     Compiling Library",
      "text/html": "<div>\n<style scoped>\n    .dataframe tbody tr th:only-of-type {\n        vertical-align: middle;\n    }\n\n    .dataframe tbody tr th {\n        vertical-align: top;\n    }\n\n    .dataframe thead th {\n        text-align: right;\n    }\n</style>\n<table border=\"1\" class=\"dataframe\">\n  <thead>\n    <tr style=\"text-align: right;\">\n      <th></th>\n      <th></th>\n      <th></th>\n    </tr>\n    <tr>\n      <th></th>\n      <th></th>\n      <th></th>\n    </tr>\n  </thead>\n  <tbody>\n    <tr>\n      <th>Initiated</th>\n      <td>. . . . . . . . . . . . . . . . . .</td>\n      <td>19:01:13</td>\n    </tr>\n    <tr>\n      <th>Status</th>\n      <td>. . . . . . . . . . . . . . . . . .</td>\n      <td>Loading Dependencies</td>\n    </tr>\n    <tr>\n      <th>Estimator</th>\n      <td>. . . . . . . . . . . . . . . . . .</td>\n      <td>Compiling Library</td>\n    </tr>\n  </tbody>\n</table>\n</div>"
     },
     "metadata": {},
     "output_type": "display_data"
    },
    {
     "data": {
      "text/plain": "<IPython.core.display.HTML object>",
      "text/html": ""
     },
     "metadata": {},
     "output_type": "display_data"
    },
    {
     "data": {
      "text/plain": "Processing:   0%|          | 0/14 [00:00<?, ?it/s]",
      "application/vnd.jupyter.widget-view+json": {
       "version_major": 2,
       "version_minor": 0,
       "model_id": "878825594ad246a59142fe11b6d34a43"
      }
     },
     "metadata": {},
     "output_type": "display_data"
    },
    {
     "data": {
      "text/plain": "[DecisionTreeClassifier(ccp_alpha=0.0, class_weight=None, criterion='gini',\n                        max_depth=None, max_features=None, max_leaf_nodes=None,\n                        min_impurity_decrease=0.0, min_samples_leaf=1,\n                        min_samples_split=2, min_weight_fraction_leaf=0.0,\n                        monotonic_cst=None, random_state=4486, splitter='best'),\n LogisticRegression(C=1.0, class_weight=None, dual=False, fit_intercept=True,\n                    intercept_scaling=1, l1_ratio=None, max_iter=1000,\n                    multi_class='auto', n_jobs=None, penalty='l2',\n                    random_state=4486, solver='lbfgs', tol=0.0001, verbose=0,\n                    warm_start=False)]"
     },
     "execution_count": 11,
     "metadata": {},
     "output_type": "execute_result"
    }
   ],
   "source": [
    "with mlflow.start_run(experiment_id=experiment_id, run_name='Treinamento'):\n",
    "\n",
    "    exp = pc.setup(\n",
    "        data=xtrain,\n",
    "        target='shot_made_flag',\n",
    "        test_data=xtest,\n",
    "        normalize=True,\n",
    "        log_experiment=False\n",
    "    )\n",
    "    list_models = exp.compare_models(['lr', 'dt'], n_select=2, sort='f1')\n",
    "    \n",
    "    # Regressão Logística\n",
    "    exp.plot_model(list_models[0], plot='vc') # save=True\n",
    "    yhat_test = exp.predict_model(list_models[1])\n",
    "    \n",
    "    plot_parameter_validation_curve(xtrain.drop('target', axis=1), ytrain, 'C', {'C':[0.001, 0.01, 0.1, 1, 10]}, list_models[1], 'Regressão Logística', 'f1', logx=True)\n",
    "    \n",
    "    mlflow.log_metrics({\n",
    "        'log_loss': log_loss(yhat_test.target, yhat_test.prediction_label),\n",
    "        'f1': f1_score(yhat_test.target, yhat_test.prediction_label)\n",
    "    })\n",
    "    \n",
    "    plt.savefig('rl_validation_curve.png')\n",
    "    mlflow.log_artifact('rl_validation_curve.png')\n",
    "    os.remove('rl_validation_curve.png')\n",
    "    \n",
    "    \n",
    "    ## Arvore de Descisão \n",
    "    #exp.plot_model(list_models[1], plot='vc') # save=True\n",
    "    \n",
    "    yhat_test = exp.predict_model(list_models[1])\n",
    "    \n",
    "    plot_parameter_validation_curve(xtrain.drop('target', axis=1), ytrain, 'max_depth', {'max_depth ':[2, 3, 4, 5, 6, 7, 8]}, list_models[1], 'Árvore de Descisão', 'f1', logx=False)\n",
    "\n",
    "    mlflow.log_metrics({\n",
    "        'ad_log_loss': log_loss(yhat_test.target, yhat_test.prediction_label),\n",
    "        'ad_f1': f1_score(yhat_test.target, yhat_test.prediction_label)\n",
    "    })\n",
    "    \n",
    "    plt.savefig('ad_validation_curve.png')\n",
    "    mlflow.log_artifact('ad_validation_curve.png')\n",
    "    os.remove('ad_validation_curve.png')\n",
    "    \n",
    "    # Finalização do Modelo\n",
    "    tune_model = exp.tune_model(model,\n",
    "                                optimize='f1',\n",
    "                                search_library='scikit-learn',\n",
    "                                search_algorithm='random',\n",
    "                                n_iter=4)\n",
    "    \n",
    "    yhat_test = exp.predict_model(tune_model)\n",
    "    mlflow.log_metrics({\n",
    "        'final_model_log_loss': log_loss(yhat_test.target, yhat_test.prediction_label),\n",
    "        'final_model_f1': f1_score(yhat_test.target, yhat_test.prediction_label)\n",
    "    })\n",
    "    \n",
    "    final_model = exp.finalize_model()"
   ],
   "metadata": {
    "collapsed": false,
    "ExecuteTime": {
     "start_time": "2024-04-15T23:01:12.686685300Z"
    }
   },
   "id": "b3379198d00a435a"
  },
  {
   "cell_type": "code",
   "execution_count": 22,
   "outputs": [],
   "source": [],
   "metadata": {
    "collapsed": false,
    "ExecuteTime": {
     "start_time": "2024-04-16T00:39:46.099030400Z"
    }
   },
   "id": "20f19e17ce844f0f"
  },
  {
   "cell_type": "code",
   "execution_count": 21,
   "outputs": [
    {
     "name": "stdout",
     "output_type": "stream",
     "text": [
      "Parameter: C\n",
      "GridSearch: [0.001, 0.01, 0.1, 1, 10]\n",
      "Scoring: f1\n"
     ]
    },
    {
     "data": {
      "text/plain": "<Figure size 600x400 with 1 Axes>",
      "image/png": "[encoded data removed]"
     },
     "metadata": {},
     "output_type": "display_data"
    }
   ],
   "source": [],
   "metadata": {
    "collapsed": false,
    "ExecuteTime": {
     "end_time": "2024-04-16T00:34:48.921335200Z",
     "start_time": "2024-04-16T00:34:47.247287800Z"
    }
   },
   "id": "c9087cbc05e62f5"
  },
  {
   "cell_type": "code",
   "execution_count": null,
   "outputs": [],
   "source": [],
   "metadata": {
    "collapsed": false
   },
   "id": "1073033dac9486be"
  },
  {
   "cell_type": "markdown",
   "source": [
    "#### (OK) 1. A solução criada nesse projeto deve ser disponibilizada em repositório git e disponibilizada em servidor de repositórios (Github (recomendado), Bitbucket ou Gitlab). O projeto deve obedecer o Framework TDSP da Microsoft (estrutura de arquivos, arquivo requirements.txt e arquivo README). Todos os artefatos produzidos deverão conter informações referentes a esse projeto (não serão aceitos documentos vazios ou fora de contexto). Escreva o link para seu repositório. "
   ],
   "metadata": {
    "collapsed": false
   },
   "id": "1c00d89b3154a938"
  },
  {
   "cell_type": "markdown",
   "source": [
    "#### (OK) 2. Iremos desenvolver um preditor de arremessos usando duas abordagens (regressão e classificação) para prever se o \"Black Mamba\" (apelido de Kobe) acertou ou errou a cesta. Baixe os dados de desenvolvimento e produção aqui (datasets: dataset_kobe_dev.parquet e dataset_kobe_prod.parquet). \n",
    "#### Salve-os numa pasta /data/raw na raiz do seu repositório. Para começar o desenvolvimento, desenhe um diagrama que demonstra todas as etapas necessárias em um projeto de inteligência artificial, desde a aquisição de dados, passando pela criação dos modelos, indo até a operação do modelo."
   ],
   "metadata": {
    "collapsed": false
   },
   "id": "7491b06c5cd2e671"
  },
  {
   "cell_type": "markdown",
   "source": [
    "#### 3. Descreva a importância de implementar pipelines de desenvolvimento e produção numa solução de aprendizado de máquinas."
   ],
   "metadata": {
    "collapsed": false
   },
   "id": "3f1a555317f96e18"
  },
  {
   "cell_type": "markdown",
   "source": [
    "\n",
    "#### 4. Como as ferramentas Streamlit, MLFlow, PyCaret e Scikit-Learn auxiliam na construção dos pipelines descritos anteriormente? A resposta deve abranger os seguintes aspectos:\n",
    "a. Rastreamento de experimentos;\n",
    "b. Funções de treinamento;\n",
    "c. Monitoramento da saúde do modelo;\n",
    "d. Atualização de modelo;\n",
    "e. Provisionamento (Deployment)."
   ],
   "metadata": {
    "collapsed": false
   },
   "id": "9ef37587a7de3041"
  },
  {
   "cell_type": "markdown",
   "source": [
    "#### 5. Com base no diagrama realizado na questão 2, aponte os artefatos que serão criados ao longo de um projeto. Para cada artefato, indique qual seu objetivo.\n"
   ],
   "metadata": {
    "collapsed": false
   },
   "id": "68db7aacbadb56db"
  },
  {
   "cell_type": "markdown",
   "source": [
    "#### 6. Implemente o pipeline de processamento de dados com o mlflow, rodada (run) com o nome \"PreparacaoDados\":\n",
    " a. Os dados devem estar localizados em \"/data/raw/dataset_kobe_dev.parquet\" e \"/data/raw/dataset_kobe_prod.parquet\" \n",
    " b. Observe que há dados faltantes na base de dados! As linhas que possuem dados faltantes devem ser desconsideradas. Para esse exercício serão apenas consideradas as colunas:\n",
    " \n",
    "lat\n",
    "lng\n",
    "minutes remaining\n",
    "period\n",
    "playoffs\n",
    "shot_distance\n",
    "\n",
    "OBS: \n",
    "A variável shot_made_flag será seu alvo, onde 0 indica que Kobe errou e 1 que a cesta foi realizada. O dataset resultante será armazenado na pasta \"/data/processed/data_filtered.parquet\". Ainda sobre essa seleção, qual a dimensão resultante do dataset?\n",
    "\n",
    "c. Separe os dados em treino (80%) e teste (20 %) usando uma escolha aleatória e estratificada. Armazene os datasets resultantes em \"/Data/processed/base_{train|test}.parquet . Explique como a escolha de treino e teste afetam o resultado do modelo final. Quais estratégias ajudam a minimizar os efeitos de viés de dados.\n",
    "\n",
    "d. Registre os parâmetros (% teste) e métricas (tamanho de cada base) no MlFlow"
   ],
   "metadata": {
    "collapsed": false
   },
   "id": "e367635c2c51eb7f"
  },
  {
   "cell_type": "markdown",
   "source": [
    "#### 7. Implementar o pipeline de treinamento do modelo com o MlFlow usando o nome \"Treinamento\".\n",
    "\n",
    "a. Com os dados separados para treinamento, treine um modelo com regressão logística do sklearn usando a biblioteca pyCaret.\n",
    "b. Registre a função custo \"log loss\" usando a base de teste\n",
    "c. Com os dados separados para treinamento, treine um modelo de árvore de decisão do sklearn usando a biblioteca pyCaret.\n",
    "d. Registre a função custo \"log loss\" e F1_score para o modelo de árvore.\n",
    "e. Selecione um dos dois modelos para finalização e justifique sua escolha\n"
   ],
   "metadata": {
    "collapsed": false
   },
   "id": "67c802da46181de7"
  },
  {
   "cell_type": "markdown",
   "source": [
    "#### 8. Registre o modelo de classificação e o sirva através do MLFlow (ou como uma API local, ou embarcando o modelo na aplicação). Desenvolva um pipeline de aplicação (aplicacao.py) para carregar a base de produção (/data/raw/dataset_kobe_prod.parquet) e aplicar o modelo. Nomeie a rodada (run) do mlflow como “PipelineAplicacao” e publique, tanto uma tabela com os resultados obtidos (artefato como .parquet), quanto log as métricas do novo log loss e f1_score do modelo.\n",
    "\n",
    "a. O modelo é aderente a essa nova base? O que mudou entre uma base e outra? Justifique.\n",
    "b. Descreva como podemos monitorar a saúde do modelo no cenário com e sem a disponibilidade da variável resposta para o modelo em operação.\n",
    "c. Descreva as estratégias reativa e preditiva de retreinamento para o modelo em operação."
   ],
   "metadata": {
    "collapsed": false
   },
   "id": "cb0317693d81c336"
  },
  {
   "cell_type": "markdown",
   "source": [
    "#### 9. Implemente um dashboard de monitoramento da operação usando Streamlit."
   ],
   "metadata": {
    "collapsed": false
   },
   "id": "e5dfed99fe2f3c7d"
  },
  {
   "cell_type": "markdown",
   "source": [
    "#### 10. Crie uma apresentação em formato de Slides com os resultados, figuras, links de interesse (git, Streamlit, etc.) e print-screens que o aluno julgar necessário para demonstrar as atividades. Use esse template aqui.\n",
    "\n",
    "Assim que terminar, salve o seu arquivo PDF e poste no Moodle. Utilize o seu nome para nomear o arquivo, identificando também a disciplina no seguinte formato: “nomedoaluno_nomedadisciplina_pd.PDF”."
   ],
   "metadata": {
    "collapsed": false
   },
   "id": "e25de37201f1fecb"
  },
  {
   "cell_type": "code",
   "execution_count": null,
   "outputs": [],
   "source": [],
   "metadata": {
    "collapsed": false
   },
   "id": "88d75f06807aafd1"
  },
  {
   "cell_type": "code",
   "execution_count": null,
   "outputs": [],
   "source": [],
   "metadata": {
    "collapsed": false
   },
   "id": "b81e7559df27746f"
  },
  {
   "cell_type": "code",
   "execution_count": null,
   "outputs": [],
   "source": [],
   "metadata": {
    "collapsed": false
   },
   "id": "1bc33c0ffb730fc5"
  },
  {
   "cell_type": "code",
   "execution_count": null,
   "outputs": [],
   "source": [],
   "metadata": {
    "collapsed": false
   },
   "id": "27a29faa9c4b4f68"
  },
  {
   "cell_type": "code",
   "execution_count": null,
   "outputs": [],
   "source": [],
   "metadata": {
    "collapsed": false
   },
   "id": "7f34c3168bd41215"
  },
  {
   "cell_type": "code",
   "execution_count": null,
   "outputs": [],
   "source": [],
   "metadata": {
    "collapsed": false
   },
   "id": "6f9471127cd9472f"
  },
  {
   "cell_type": "code",
   "execution_count": null,
   "outputs": [],
   "source": [],
   "metadata": {
    "collapsed": false
   },
   "id": "2789b052546cfd86"
  }
 ],
 "metadata": {
  "kernelspec": {
   "display_name": "Python 3",
   "language": "python",
   "name": "python3"
  },
  "language_info": {
   "codemirror_mode": {
    "name": "ipython",
    "version": 2
   },
   "file_extension": ".py",
   "mimetype": "text/x-python",
   "name": "python",
   "nbconvert_exporter": "python",
   "pygments_lexer": "ipython2",
   "version": "2.7.6"
  }
 },
 "nbformat": 4,
 "nbformat_minor": 5
}
