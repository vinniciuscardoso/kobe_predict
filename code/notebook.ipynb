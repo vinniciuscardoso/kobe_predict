{
 "cells": [
  {
   "cell_type": "code",
   "execution_count": 89,
   "id": "initial_id",
   "metadata": {
    "collapsed": true,
    "ExecuteTime": {
     "end_time": "2025-04-15T17:07:13.242074Z",
     "start_time": "2025-04-15T17:07:13.215613100Z"
    }
   },
   "outputs": [],
   "source": [
    "import requests\n",
    "import pandas as pd\n",
    "import numpy as np\n",
    "from sklearn.model_selection import train_test_split, validation_curve\n",
    "from sklearn.metrics import log_loss, f1_score\n",
    "from pathlib import Path\n",
    "import pycaret.classification as pc\n",
    "import pycaret.regression as pr\n",
    "\n",
    "import mlflow\n",
    "from mlflow.models.signature import infer_signature\n",
    "from mlflow.models.signature import ModelSignature\n",
    "from mlflow.tracking import MlflowClient\n",
    "\n",
    "import matplotlib.pyplot as plt\n",
    "\n",
    "\n",
    "import streamlit\n",
    "import os\n",
    "import leitura_dados"
   ]
  },
  {
   "cell_type": "markdown",
   "source": [
    "## Leitura de dados"
   ],
   "metadata": {
    "collapsed": false
   },
   "id": "a564c41382e73880"
  },
  {
   "cell_type": "code",
   "execution_count": 2,
   "outputs": [],
   "source": [
    "df_prod = leitura_dados.leitura_arquivo('../data/raw/dataset_kobe_prod.parquet')"
   ],
   "metadata": {
    "collapsed": false,
    "ExecuteTime": {
     "end_time": "2025-04-14T00:07:15.392587100Z",
     "start_time": "2025-04-14T00:07:15.328600800Z"
    }
   },
   "id": "56a148492c3b3ae0"
  },
  {
   "cell_type": "markdown",
   "source": [
    "### Configuração MLFlow"
   ],
   "metadata": {
    "collapsed": false
   },
   "id": "d26d3d76e26e599"
  },
  {
   "cell_type": "code",
   "execution_count": 3,
   "outputs": [
    {
     "name": "stderr",
     "output_type": "stream",
     "text": [
      "2025/04/13 21:11:28 INFO mlflow.store.db.utils: Creating initial MLflow database tables...\n",
      "2025/04/13 21:11:28 INFO mlflow.store.db.utils: Updating database tables\n",
      "INFO  [alembic.runtime.migration] Context impl SQLiteImpl.\n",
      "INFO  [alembic.runtime.migration] Will assume non-transactional DDL.\n",
      "INFO  [alembic.runtime.migration] Running upgrade  -> 451aebb31d03, add metric step\n",
      "INFO  [alembic.runtime.migration] Running upgrade 451aebb31d03 -> 90e64c465722, migrate user column to tags\n",
      "INFO  [alembic.runtime.migration] Running upgrade 90e64c465722 -> 181f10493468, allow nulls for metric values\n",
      "INFO  [alembic.runtime.migration] Running upgrade 181f10493468 -> df50e92ffc5e, Add Experiment Tags Table\n",
      "INFO  [alembic.runtime.migration] Running upgrade df50e92ffc5e -> 7ac759974ad8, Update run tags with larger limit\n",
      "INFO  [alembic.runtime.migration] Running upgrade 7ac759974ad8 -> 89d4b8295536, create latest metrics table\n",
      "INFO  [89d4b8295536_create_latest_metrics_table_py] Migration complete!\n",
      "INFO  [alembic.runtime.migration] Running upgrade 89d4b8295536 -> 2b4d017a5e9b, add model registry tables to db\n",
      "INFO  [2b4d017a5e9b_add_model_registry_tables_to_db_py] Adding registered_models and model_versions tables to database.\n",
      "INFO  [2b4d017a5e9b_add_model_registry_tables_to_db_py] Migration complete!\n",
      "INFO  [alembic.runtime.migration] Running upgrade 2b4d017a5e9b -> cfd24bdc0731, Update run status constraint with killed\n",
      "INFO  [alembic.runtime.migration] Running upgrade cfd24bdc0731 -> 0a8213491aaa, drop_duplicate_killed_constraint\n",
      "INFO  [alembic.runtime.migration] Running upgrade 0a8213491aaa -> 728d730b5ebd, add registered model tags table\n",
      "INFO  [alembic.runtime.migration] Running upgrade 728d730b5ebd -> 27a6a02d2cf1, add model version tags table\n",
      "INFO  [alembic.runtime.migration] Running upgrade 27a6a02d2cf1 -> 84291f40a231, add run_link to model_version\n",
      "INFO  [alembic.runtime.migration] Running upgrade 84291f40a231 -> a8c4a736bde6, allow nulls for run_id\n",
      "INFO  [alembic.runtime.migration] Running upgrade a8c4a736bde6 -> 39d1c3be5f05, add_is_nan_constraint_for_metrics_tables_if_necessary\n",
      "INFO  [alembic.runtime.migration] Running upgrade 39d1c3be5f05 -> c48cb773bb87, reset_default_value_for_is_nan_in_metrics_table_for_mysql\n",
      "INFO  [alembic.runtime.migration] Running upgrade c48cb773bb87 -> bd07f7e963c5, create index on run_uuid\n",
      "INFO  [alembic.runtime.migration] Running upgrade bd07f7e963c5 -> 0c779009ac13, add deleted_time field to runs table\n",
      "INFO  [alembic.runtime.migration] Running upgrade 0c779009ac13 -> cc1f77228345, change param value length to 500\n",
      "INFO  [alembic.runtime.migration] Running upgrade cc1f77228345 -> 97727af70f4d, Add creation_time and last_update_time to experiments table\n",
      "INFO  [alembic.runtime.migration] Running upgrade 97727af70f4d -> 3500859a5d39, Add Model Aliases table\n",
      "INFO  [alembic.runtime.migration] Running upgrade 3500859a5d39 -> 7f2a7d5fae7d, add datasets inputs input_tags tables\n",
      "INFO  [alembic.runtime.migration] Running upgrade 7f2a7d5fae7d -> 2d6e25af4d3e, increase max param val length from 500 to 8000\n",
      "INFO  [alembic.runtime.migration] Running upgrade 2d6e25af4d3e -> acf3f17fdcc7, add storage location field to model versions\n",
      "INFO  [alembic.runtime.migration] Running upgrade acf3f17fdcc7 -> 867495a8f9d4, add trace tables\n",
      "INFO  [alembic.runtime.migration] Running upgrade 867495a8f9d4 -> 5b0e9adcef9c, add cascade deletion to trace tables foreign keys\n",
      "INFO  [alembic.runtime.migration] Running upgrade 5b0e9adcef9c -> 4465047574b1, increase max dataset schema size\n",
      "INFO  [alembic.runtime.migration] Running upgrade 4465047574b1 -> f5a4f2784254, increase run tag value limit to 8000\n",
      "INFO  [alembic.runtime.migration] Running upgrade f5a4f2784254 -> 0584bdc529eb, add cascading deletion to datasets from experiments\n",
      "INFO  [alembic.runtime.migration] Context impl SQLiteImpl.\n",
      "INFO  [alembic.runtime.migration] Will assume non-transactional DDL.\n"
     ]
    }
   ],
   "source": [
    "# Para usar o sqlite como repositorio\n",
    "mlflow.set_tracking_uri('sqlite:///../data/mlruns.db')\n",
    "\n",
    "experiment_name = 'Projeto Kobe'\n",
    "experiment = mlflow.get_experiment_by_name(experiment_name)\n",
    "if experiment is None:\n",
    "    experiment_id = mlflow.create_experiment(experiment_name)\n",
    "    experiment = mlflow.get_experiment(experiment_id)\n",
    "experiment_id  = experiment.experiment_id"
   ],
   "metadata": {
    "collapsed": false,
    "ExecuteTime": {
     "end_time": "2025-04-14T00:11:29.822100600Z",
     "start_time": "2025-04-14T00:11:28.251517Z"
    }
   },
   "id": "f89ca9d607b4df20"
  },
  {
   "cell_type": "code",
   "execution_count": 4,
   "outputs": [],
   "source": [
    "columns = ['lat', 'lon' , 'minutes_remaining', 'period', 'playoffs', 'shot_distance', 'shot_made_flag'] # Não foi encontrado a coluna \"lng\". Substituido pela coluna \"lon\"\n",
    "\n",
    "\n",
    "# TODO: 2.2 Colocar o pdf do diagrama.png dentro do /docs # opcional Colocar no README\n",
    "# TODO: 3 Colocar a resposta no README.md\n",
    "\n",
    "\n",
    "#TODO: Colocar todo o codigo do notebook em funções no arquivo .py\n",
    "#C:\\Users\\vinni\\OneDrive\\Área de Trabalho\\Geral\\códigos\\Aulas\\Pós INFNET\\2_Engenharia_Machine_Learning\\projeto\\kobe_predict\\code\n",
    "# pipeline run 'PreparacaoDados\"\n",
    "with mlflow.start_run(experiment_id=experiment_id, run_name='PreparacaoDados'):\n",
    "\n",
    "    df_dev = pd.read_parquet('../data/raw/dataset_kobe_dev.parquet')\n",
    "\n",
    "    df_dev.dropna(subset=['shot_made_flag'], inplace=True) # Somente a coluna \"shot_made_flag\" tinha dados faltantes\n",
    "    df_dev = df_dev[columns] # shape 20285, 5\n",
    "    df_dev.to_parquet('../data/processed/data_filtered.parquet')\n",
    "\n",
    "    df_dev_columns = df_dev[['lat', 'lon' , 'minutes_remaining', 'period', 'playoffs', 'shot_distance']]\n",
    "    df_dev_target = df_dev['shot_made_flag']\n",
    "    train_perc = 0.8\n",
    "\n",
    "    xtrain, xtest, ytrain, ytest = train_test_split(df_dev_columns,\n",
    "                                                    df_dev_target,\n",
    "                                                    train_size=train_perc,\n",
    "                                                    stratify=df_dev_target)\n",
    "\n",
    "    xtrain['shot_made_flag'] = ytrain\n",
    "    xtest['shot_made_flag'] = ytest\n",
    "\n",
    "    xtrain.to_parquet('../data/processed/base_train.parquet')\n",
    "        xtest.to_parquet('../data/processed/base_test.parquet')\n",
    "\n",
    "    mlflow.log_params({'perc_test':1 - train_perc, 'select_columns': columns})\n",
    "    mlflow.log_metrics({'qtde_linhas_train': xtrain.shape[0], 'qtde_linhas_test': xtest.shape[0]})\n",
    "    "
   ],
   "metadata": {
    "collapsed": false,
    "ExecuteTime": {
     "end_time": "2025-04-14T00:12:26.654582700Z",
     "start_time": "2025-04-14T00:12:26.347393200Z"
    }
   },
   "id": "fead59e673b3b491"
  },
  {
   "cell_type": "code",
   "execution_count": 45,
   "outputs": [],
   "source": [
    " def plot_parameter_validation_curve(x, y, param_name, grid_search,\n",
    "                                     model, model_name, scoring,\n",
    "                                     logx):\n",
    "    print('Parameter:', param_name)\n",
    "    print('GridSearch:', grid_search[param_name])\n",
    "    print('Scoring:', scoring)\n",
    "    plt.figure(figsize=(6,4))\n",
    "    train_scores, test_scores = validation_curve(model,\n",
    "                                                 X = x,\n",
    "                                                 y = y,\n",
    "                                                 param_name=param_name,\n",
    "                                                 param_range= grid_search[param_name],\n",
    "                                                 scoring=scoring,\n",
    "                                                 cv=10,\n",
    "                                                 n_jobs=-1)\n",
    "    train_scores_mean = np.mean(train_scores, axis=1)\n",
    "    train_scores_std = np.std(train_scores, axis=1)\n",
    "    test_scores_mean = np.mean(test_scores, axis=1)\n",
    "    test_scores_std = np.std(test_scores, axis=1)\n",
    "    plt.title(\"Curva Validação Modelo \" + model_name)\n",
    "    plt.xlabel(param_name)\n",
    "    plt.ylabel(\"Score (\"+scoring+\")\")\n",
    "    if logx:\n",
    "        plt.semilogx(grid_search[param_name], train_scores_mean,'-o', label=\"Treino\",\n",
    "                     color=\"darkorange\", lw=2)\n",
    "        plt.semilogx(grid_search[param_name], test_scores_mean,'-o', label=\"Validação-Cruzada\",\n",
    "                     color=\"navy\", lw=2)\n",
    "    else:\n",
    "        plt.plot(grid_search[param_name], train_scores_mean,'-o', label=\"Treino\",\n",
    "                 color=\"darkorange\", lw=2)\n",
    "        plt.plot(grid_search[param_name], test_scores_mean,'-o', label=\"Validação-Cruzada\",\n",
    "                 color=\"navy\", lw=2)\n",
    "    plt.fill_between(grid_search[param_name], train_scores_mean - train_scores_std,\n",
    "                     train_scores_mean + train_scores_std, alpha=0.2,\n",
    "                     color=\"darkorange\", lw=2)\n",
    "    plt.fill_between(grid_search[param_name], test_scores_mean - test_scores_std,\n",
    "                     test_scores_mean + test_scores_std, alpha=0.2,\n",
    "                     color=\"navy\", lw=2)\n",
    "    plt.legend(loc='best')\n",
    "    \n",
    "    # Salvar imagem automaticamente\n",
    "    filename = f\"validation_curve_{model_name.replace(' ', '_').lower()}.png\"\n",
    "    plt.grid(True)\n",
    "    plt.savefig(filename, bbox_inches='tight')\n",
    "    print(f\"Gráfico salvo como: {filename}\")\n",
    "    plt.show()\n",
    "    plt.close()\n",
    "    "
   ],
   "metadata": {
    "collapsed": false,
    "ExecuteTime": {
     "end_time": "2025-04-14T19:51:06.883430300Z",
     "start_time": "2025-04-14T19:51:06.869498900Z"
    }
   },
   "id": "fb003692a701c20f"
  },
  {
   "cell_type": "code",
   "execution_count": 48,
   "outputs": [],
   "source": [
    "mlflow.end_run()"
   ],
   "metadata": {
    "collapsed": false,
    "ExecuteTime": {
     "end_time": "2025-04-14T20:05:45.793376400Z",
     "start_time": "2025-04-14T20:05:45.772150100Z"
    }
   },
   "id": "8664e858689665d0"
  },
  {
   "cell_type": "code",
   "execution_count": 87,
   "outputs": [
    {
     "data": {
      "text/plain": "<IPython.core.display.HTML object>",
      "text/html": ""
     },
     "metadata": {},
     "output_type": "display_data"
    },
    {
     "data": {
      "text/plain": "                                                                    \n                                                                    \nInitiated  . . . . . . . . . . . . . . . . . .              12:51:59\nStatus     . . . . . . . . . . . . . . . . . .  Loading Dependencies\nEstimator  . . . . . . . . . . . . . . . . . .     Compiling Library",
      "text/html": "<div>\n<style scoped>\n    .dataframe tbody tr th:only-of-type {\n        vertical-align: middle;\n    }\n\n    .dataframe tbody tr th {\n        vertical-align: top;\n    }\n\n    .dataframe thead th {\n        text-align: right;\n    }\n</style>\n<table border=\"1\" class=\"dataframe\">\n  <thead>\n    <tr style=\"text-align: right;\">\n      <th></th>\n      <th></th>\n      <th></th>\n    </tr>\n    <tr>\n      <th></th>\n      <th></th>\n      <th></th>\n    </tr>\n  </thead>\n  <tbody>\n    <tr>\n      <th>Initiated</th>\n      <td>. . . . . . . . . . . . . . . . . .</td>\n      <td>12:51:59</td>\n    </tr>\n    <tr>\n      <th>Status</th>\n      <td>. . . . . . . . . . . . . . . . . .</td>\n      <td>Loading Dependencies</td>\n    </tr>\n    <tr>\n      <th>Estimator</th>\n      <td>. . . . . . . . . . . . . . . . . .</td>\n      <td>Compiling Library</td>\n    </tr>\n  </tbody>\n</table>\n</div>"
     },
     "metadata": {},
     "output_type": "display_data"
    },
    {
     "data": {
      "text/plain": "<IPython.core.display.HTML object>",
      "text/html": ""
     },
     "metadata": {},
     "output_type": "display_data"
    },
    {
     "data": {
      "text/plain": "Processing:   0%|          | 0/14 [00:00<?, ?it/s]",
      "application/vnd.jupyter.widget-view+json": {
       "version_major": 2,
       "version_minor": 0,
       "model_id": "a032bd1c7f1f4cc6882c2a45242509f5"
      }
     },
     "metadata": {},
     "output_type": "display_data"
    },
    {
     "data": {
      "text/plain": "<IPython.core.display.HTML object>",
      "text/html": ""
     },
     "metadata": {},
     "output_type": "display_data"
    },
    {
     "data": {
      "text/plain": "<IPython.core.display.HTML object>",
      "text/html": ""
     },
     "metadata": {},
     "output_type": "display_data"
    },
    {
     "name": "stdout",
     "output_type": "stream",
     "text": [
      "Parameter: C\n",
      "GridSearch: [0.001, 0.01, 0.1, 1, 10]\n",
      "Scoring: f1\n",
      "Gráfico salvo como: validation_curve_regressão_logística.png\n"
     ]
    },
    {
     "data": {
      "text/plain": "<Figure size 600x400 with 1 Axes>",
      "image/png": "[encoded data removed]"
     },
     "metadata": {},
     "output_type": "display_data"
    },
    {
     "data": {
      "text/plain": "<IPython.core.display.HTML object>",
      "text/html": ""
     },
     "metadata": {},
     "output_type": "display_data"
    },
    {
     "data": {
      "text/plain": "<IPython.core.display.HTML object>",
      "text/html": ""
     },
     "metadata": {},
     "output_type": "display_data"
    },
    {
     "name": "stdout",
     "output_type": "stream",
     "text": [
      "Parameter: max_depth\n",
      "GridSearch: [2, 3, 4, 5, 6, 7, 8]\n",
      "Scoring: f1\n",
      "Gráfico salvo como: validation_curve_árvore_de_descisão.png\n"
     ]
    },
    {
     "data": {
      "text/plain": "<Figure size 600x400 with 1 Axes>",
      "image/png": "[encoded data removed]"
     },
     "metadata": {},
     "output_type": "display_data"
    },
    {
     "data": {
      "text/plain": "                                                                    \n                                                                    \nInitiated  . . . . . . . . . . . . . . . . . .              12:52:27\nStatus     . . . . . . . . . . . . . . . . . .  Loading Dependencies\nEstimator  . . . . . . . . . . . . . . . . . .     Compiling Library",
      "text/html": "<div>\n<style scoped>\n    .dataframe tbody tr th:only-of-type {\n        vertical-align: middle;\n    }\n\n    .dataframe tbody tr th {\n        vertical-align: top;\n    }\n\n    .dataframe thead th {\n        text-align: right;\n    }\n</style>\n<table border=\"1\" class=\"dataframe\">\n  <thead>\n    <tr style=\"text-align: right;\">\n      <th></th>\n      <th></th>\n      <th></th>\n    </tr>\n    <tr>\n      <th></th>\n      <th></th>\n      <th></th>\n    </tr>\n  </thead>\n  <tbody>\n    <tr>\n      <th>Initiated</th>\n      <td>. . . . . . . . . . . . . . . . . .</td>\n      <td>12:52:27</td>\n    </tr>\n    <tr>\n      <th>Status</th>\n      <td>. . . . . . . . . . . . . . . . . .</td>\n      <td>Loading Dependencies</td>\n    </tr>\n    <tr>\n      <th>Estimator</th>\n      <td>. . . . . . . . . . . . . . . . . .</td>\n      <td>Compiling Library</td>\n    </tr>\n  </tbody>\n</table>\n</div>"
     },
     "metadata": {},
     "output_type": "display_data"
    },
    {
     "data": {
      "text/plain": "<IPython.core.display.HTML object>",
      "text/html": ""
     },
     "metadata": {},
     "output_type": "display_data"
    },
    {
     "data": {
      "text/plain": "Processing:   0%|          | 0/7 [00:00<?, ?it/s]",
      "application/vnd.jupyter.widget-view+json": {
       "version_major": 2,
       "version_minor": 0,
       "model_id": "c41c21024d564953a2715a10f877d13c"
      }
     },
     "metadata": {},
     "output_type": "display_data"
    },
    {
     "name": "stdout",
     "output_type": "stream",
     "text": [
      "Fitting 10 folds for each of 4 candidates, totalling 40 fits\n",
      "Original model was better than the tuned model, hence it will be returned. NOTE: The display metrics are for the tuned model (not the original one).\n"
     ]
    },
    {
     "data": {
      "text/plain": "<IPython.core.display.HTML object>",
      "text/html": ""
     },
     "metadata": {},
     "output_type": "display_data"
    },
    {
     "name": "stdout",
     "output_type": "stream",
     "text": [
      "Transformation Pipeline and Model Successfully Saved\n",
      "Transformation Pipeline and Model Successfully Loaded\n"
     ]
    },
    {
     "data": {
      "text/plain": "Downloading artifacts:   0%|          | 0/7 [00:00<?, ?it/s]",
      "application/vnd.jupyter.widget-view+json": {
       "version_major": 2,
       "version_minor": 0,
       "model_id": "fbeeffce56024882be14a0bdc30d4f3f"
      }
     },
     "metadata": {},
     "output_type": "display_data"
    },
    {
     "name": "stderr",
     "output_type": "stream",
     "text": [
      "Registered model 'Kobe Predict' already exists. Creating a new version of this model...\n",
      "Created version '10' of model 'Kobe Predict'.\n"
     ]
    },
    {
     "data": {
      "text/plain": "<Figure size 800x550 with 0 Axes>"
     },
     "metadata": {},
     "output_type": "display_data"
    }
   ],
   "source": [
    "registered_model_name = 'Kobe Predict' \n",
    "n_example = 5\n",
    "model_version = -1\n",
    "\n",
    "with mlflow.start_run(experiment_id=experiment_id, run_name='Treinamento'):\n",
    "\n",
    "    exp = pc.setup(\n",
    "        data=xtrain,\n",
    "        target='shot_made_flag',\n",
    "        test_data=xtest,\n",
    "        normalize=True,\n",
    "        log_experiment=False\n",
    "    )\n",
    "    list_models = exp.compare_models(['lr', 'dt'], n_select=2, sort='f1')\n",
    "\n",
    "    # Regressão Logística\n",
    "    exp.plot_model(list_models[1], plot='vc',save=True) # \n",
    "    yhat_test = exp.predict_model(list_models[1])\n",
    "\n",
    "    plot_parameter_validation_curve(xtrain.drop('shot_made_flag', axis=1), ytrain, 'C', {'C':[0.001, 0.01, 0.1, 1, 10]}, list_models[1], 'Regressão Logística', 'f1', logx=True)\n",
    "\n",
    "    mlflow.log_metrics({\n",
    "        'lr_log_loss': log_loss(yhat_test['shot_made_flag'], yhat_test['prediction_label']),\n",
    "        'lr_f1': f1_score(yhat_test['shot_made_flag'], yhat_test['prediction_label'])\n",
    "    })\n",
    "\n",
    "    plt.savefig('rl_validation_curve.png')\n",
    "    mlflow.log_artifact('rl_validation_curve.png')\n",
    "    #os.remove('rl_validation_curve.png')\n",
    "\n",
    "\n",
    "    ## Arvore de Descisão \n",
    "    exp.plot_model(list_models[0], plot='vc',save=True) # \n",
    "    yhat_test = exp.predict_model(list_models[0])\n",
    "\n",
    "    plot_parameter_validation_curve(xtrain.drop('shot_made_flag', axis=1),\n",
    "                                    ytrain,\n",
    "                                    'max_depth',\n",
    "                                    {'max_depth':[2, 3, 4, 5, 6, 7, 8]},\n",
    "                                    list_models[0],\n",
    "                                    'Árvore de Descisão',\n",
    "                                    'f1',\n",
    "                                    logx=False)\n",
    "\n",
    "    mlflow.log_metrics({\n",
    "        'lr_log_loss': log_loss(yhat_test['shot_made_flag'], yhat_test['prediction_label']),\n",
    "        'lr_f1': f1_score(yhat_test['shot_made_flag'], yhat_test['prediction_label'])\n",
    "    })\n",
    "\n",
    "    plt.savefig('dt_validation_curve.png')\n",
    "    mlflow.log_artifact('dt_validation_curve.png')\n",
    "    #os.remove('dt_validation_curve.png')\n",
    "\n",
    "    # Finalização do Modelo\n",
    "    tune_model = exp.tune_model(list_models[0],\n",
    "                                optimize='f1',\n",
    "                                search_library='scikit-learn',\n",
    "                                search_algorithm='random',\n",
    "                                n_iter=4)\n",
    "\n",
    "    yhat_test = exp.predict_model(tune_model, raw_score=True)\n",
    "    mlflow.log_metrics({\n",
    "        'final_model_log_loss': log_loss(yhat_test['shot_made_flag'], yhat_test['prediction_label']),\n",
    "        'final_model_f1': f1_score(yhat_test['shot_made_flag'], yhat_test['prediction_label'])\n",
    "    })\n",
    "    yhat_test.to_parquet('../data/processed/prediction_test.parquet')\n",
    "    mlflow.log_artifact('../data/processed/prediction_test.parquet')\n",
    "    \n",
    "    final_model = exp.finalize_model(tune_model)\n",
    "\n",
    "    # Exportação para Log e registro do modelo  \n",
    "    exp.save_model(final_model, f'./{registered_model_name}')\n",
    "    # Carrega novamente o pipeline + bestmodel\n",
    "    model_pipe = exp.load_model(f'./{registered_model_name}')\n",
    "    # Assinatura do Modelo Inferida pelo MLFlow\n",
    "    model_features = list(xtrain.drop('shot_made_flag', axis=1).columns)\n",
    "    inf_signature = infer_signature(xtrain[model_features], \n",
    "                                    model_pipe.predict(xtrain.drop('shot_made_flag', axis=1)))\n",
    "    # Exemplo de entrada para o MLmodel\n",
    "    input_example = {x: xtrain[x].values[:n_example] for x in model_features}\n",
    "    # Log do pipeline de modelagem do sklearn e registrar como uma nova versao\n",
    "    mlflow.sklearn.log_model(\n",
    "        sk_model=model_pipe,\n",
    "        artifact_path=\"sklearn-model\",\n",
    "        registered_model_name=registered_model_name,\n",
    "        signature = inf_signature,\n",
    "        input_example = input_example\n",
    "    )\n",
    "    # Criacao do cliente do servico MLFlow e atualizacao versao modelo\n",
    "    client = MlflowClient()\n",
    "    if model_version == -1:\n",
    "        model_version = client.get_latest_versions(registered_model_name)[-1].version\n",
    "    # Registrar o modelo como staging\n",
    "    client.set_registered_model_alias(\n",
    "        name=registered_model_name,\n",
    "        alias='staging',\n",
    "        version=model_version\n",
    "    ) "
   ],
   "metadata": {
    "collapsed": false,
    "ExecuteTime": {
     "end_time": "2025-04-15T15:52:38.176049900Z",
     "start_time": "2025-04-15T15:51:58.772028500Z"
    }
   },
   "id": "fad123a9e729ee6b"
  },
  {
   "cell_type": "code",
   "execution_count": null,
   "outputs": [],
   "source": [
    "import pandas as pd\n",
    "import mlflow\n",
    "from mlflow.sklearn import load_model\n",
    "from pycaret.classification import predict_model\n",
    "from sklearn.metrics import log_loss, f1_score\n",
    "\n",
    "# Configuração do MLflow com SQLite\n",
    "mlflow.set_tracking_uri('sqlite:///../data/mlruns.db')\n",
    "\n",
    "experiment_name = 'Projeto Kobe'\n",
    "experiment = mlflow.get_experiment_by_name(experiment_name)\n",
    "if experiment is None:\n",
    "    experiment_id = mlflow.create_experiment(experiment_name)\n",
    "else:\n",
    "    experiment_id = experiment.experiment_id\n",
    "\n",
    "columns = ['lat', 'lon', 'minutes_remaining', 'period', 'playoffs', 'shot_distance']\n",
    "\n",
    "with mlflow.start_run(experiment_id=experiment_id, run_name='PipelineAplicacao'):\n",
    "\n",
    "    # Carrega o modelo da versão em staging\n",
    "    model_uri = \"models:/Kobe Predict@staging\"\n",
    "    loaded_model = load_model(model_uri)\n",
    "\n",
    "    # Carrega os dados de produção\n",
    "    data_prod = pd.read_parquet('../data/raw/dataset_kobe_prod.parquet')\n",
    "\n",
    "    # Faz predição usando PyCaret\n",
    "    yhat = predict_model(loaded_model, data=data_prod)\n",
    "\n",
    "    # Salva o resultado como artefato .parquet\n",
    "    yhat.to_parquet('../data/processed/prediction_prod.parquet')\n",
    "    mlflow.log_artifact('../data/processed/prediction_prod.parquet')\n",
    "\n",
    "    # Calcula e loga métricas se a coluna alvo estiver presente\n",
    "    if 'shot_made_flag' in yhat.columns:\n",
    "        y_true = yhat['shot_made_flag']\n",
    "        y_pred_label = yhat['prediction_label']\n",
    "        y_pred_score = yhat['prediction_score']\n",
    "\n",
    "        mlflow.log_metrics({\n",
    "            'log_loss_prod': log_loss(y_true, y_pred_score),\n",
    "            'f1_score_prod': f1_score(y_true, y_pred_label)\n",
    "        })\n",
    "        print(\"✅ Métricas logadas com sucesso.\")\n",
    "    else:\n",
    "        print(\"⚠️ Coluna 'shot_made_flag' não encontrada nos dados. Métricas não foram logadas.\")\n"
   ],
   "metadata": {
    "collapsed": false
   },
   "id": "5ba924529e3e54e6"
  }
 ],
 "metadata": {
  "kernelspec": {
   "name": "code",
   "language": "python",
   "display_name": "Python 3.10 (code)"
  },
  "language_info": {
   "codemirror_mode": {
    "name": "ipython",
    "version": 2
   },
   "file_extension": ".py",
   "mimetype": "text/x-python",
   "name": "python",
   "nbconvert_exporter": "python",
   "pygments_lexer": "ipython2",
   "version": "2.7.6"
  }
 },
 "nbformat": 4,
 "nbformat_minor": 5
}
